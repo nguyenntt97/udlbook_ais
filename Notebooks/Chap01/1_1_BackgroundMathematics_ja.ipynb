{
 "cells": [
  {
   "cell_type": "markdown",
   "id": "7b12a10d",
   "metadata": {},
   "source": [
    "<a href=\"https://colab.research.google.com/github/udlbook/udlbook/blob/main/Notebooks/Chap01/1_1_BackgroundMathematics.ipynb\" target=\"_parent\"><img src=\"https://colab.research.google.com/assets/colab-badge.svg\" alt=\"Open In Colab\"/></a>"
   ]
  },
  {
   "cell_type": "markdown",
   "id": "a61ef711",
   "metadata": {},
   "source": [
    "\n",
    "# **ノートブック 1.1 -- 背景となる数学**\n",
    "\n",
    "このPythonノートブックの目的は、CoLabを使用できることを確認し、ディープラーニングを理解するために必要な背景となる数学的概念に慣れることです。<br><br>これは難しいものではなく、すでにこの情報の一部またはすべてを知っているかもしれません。<br><br>数学は観戦スポーツでは*ありません*。講義を聞いたり本を読んだりするだけでは学べません。実際に触れて、自分で探求することが本当に役立ちます。<br><br>以下のセルを順番に実行しながら進めてください。様々な場所で**「TODO」**という言葉が表示されます。これらの場所の指示に従って、関数を完成させるコードを書いてください。テキストには質問も散りばめられています。\n",
    "\n",
    "間違いを見つけたり、提案がある場合は、udlbookmail@gmail.comまでご連絡ください。"
   ]
  },
  {
   "cell_type": "code",
   "execution_count": null,
   "id": "a9b97787",
   "metadata": {},
   "outputs": [],
   "source": [
    "# Imports math library\n",
    "import numpy as np\n",
    "# Imports plotting library\n",
    "import matplotlib.pyplot as plt"
   ]
  },
  {
   "cell_type": "markdown",
   "id": "7fd4fc1d",
   "metadata": {},
   "source": [
    "**線形関数**<br>本書では、*線形方程式*という用語を、入力の加重和とオフセットの和を意味するものとして使用します。入力が1つだけ $x$ の場合、これは直線になります：\n",
    "\n",
    "\\begin{equation}y=\\beta+\\omega x,\\end{equation}\n",
    "\n",
    "ここで、$\\beta$ は線形のy切片であり、$\\omega$ は直線の傾きです。2つの入力 $x_{1}$ と $x_{2}$ がある場合、次のようになります：\n",
    "\n",
    "\\begin{equation}y=\\beta+\\omega_1 x_1 + \\omega_2 x_2.\\end{equation}\n",
    "\n",
    "その他の関数は定義により**非線形**です。\n",
    "\n",
    "\n"
   ]
  },
  {
   "cell_type": "code",
   "execution_count": null,
   "id": "34181b04",
   "metadata": {},
   "outputs": [],
   "source": [
    "# Define a linear function with just one input, x\n",
    "def linear_function_1D(x,beta,omega):\n",
    "  # TODO -- replace the code line below with formula for 1D linear equation\n",
    "  y = x\n",
    "\n",
    "  return y"
   ]
  },
  {
   "cell_type": "code",
   "execution_count": null,
   "id": "9edc429c",
   "metadata": {},
   "outputs": [],
   "source": [
    "# 1次元線形関数をプロット\n",
    "\n",
    "# 0から10まで0.01刻みでx値の配列を定義\n",
    "# https://numpy.org/doc/stable/reference/generated/numpy.arange.html\n",
    "x = np.arange(0.0,10.0, 0.01)\n",
    "# 上で記述した関数を使ってyを計算\n",
    "beta = 0.0; omega = 1.0\n",
    "\n",
    "y = linear_function_1D(x,beta,omega)\n",
    "\n",
    "# この関数をプロット\n",
    "fig, ax = plt.subplots()\n",
    "ax.plot(x,y,'r-')\n",
    "ax.set_ylim([0,10]);ax.set_xlim([0,10])\n",
    "ax.set_xlabel('x'); ax.set_ylabel('y')\n",
    "plt.show()\n",
    "\n",
    "# TODO -- betaとomegaの値を変更して実験し、\n",
    "# それらが何をするかを理解しましょう。y軸をy=10で交差し、\n",
    "# x軸をx=5で交差する線を作ってみてください"
   ]
  },
  {
   "cell_type": "markdown",
   "id": "74f36dea",
   "metadata": {},
   "source": [
    "それでは、2次元線形関数を調べてみましょう"
   ]
  },
  {
   "cell_type": "code",
   "execution_count": null,
   "id": "fa7ed421",
   "metadata": {},
   "outputs": [],
   "source": [
    "# 2次元関数を描画するコード -- 何が起こっているか理解するために読んでください。変更する必要はありません\n",
    "def draw_2D_function(x1_mesh, x2_mesh, y):\n",
    "    fig, ax = plt.subplots()\n",
    "    fig.set_size_inches(7,7)\n",
    "    pos = ax.contourf(x1_mesh, x2_mesh, y, levels=256 ,cmap = 'hot', vmin=-10,vmax=10.0)\n",
    "    fig.colorbar(pos, ax=ax)\n",
    "    ax.set_xlabel('x1');ax.set_ylabel('x2')\n",
    "    levels = np.arange(-10,10,1.0)\n",
    "    ax.contour(x1_mesh, x2_mesh, y, levels, cmap='winter')\n",
    "    plt.show()"
   ]
  },
  {
   "cell_type": "code",
   "execution_count": null,
   "id": "1c6738ef",
   "metadata": {},
   "outputs": [],
   "source": [
    "# Define a linear function with two inputs, x1 and x2\n",
    "def linear_function_2D(x1,x2,beta,omega1,omega2):\n",
    "  # TODO -- replace the code line below with formula for 2D linear equation\n",
    "  y = x1\n",
    "\n",
    "  return y"
   ]
  },
  {
   "cell_type": "code",
   "execution_count": null,
   "id": "fc2033be",
   "metadata": {},
   "outputs": [],
   "source": [
    "# 2次元関数をプロット\n",
    "\n",
    "# xとyの点の2次元配列を作成\n",
    "x1 = np.arange(0.0, 10.0, 0.1)\n",
    "x2 = np.arange(0.0, 10.0, 0.1)\n",
    "x1,x2 = np.meshgrid(x1,x2)  # https://www.geeksforgeeks.org/numpy-meshgrid-function/\n",
    "\n",
    "# omega1、omega2の値に対して2次元関数を計算\n",
    "beta = 0.0; omega1 = 1.0; omega2 = -0.5\n",
    "y  = linear_function_2D(x1,x2,beta, omega1, omega2)\n",
    "\n",
    "# 関数を描画\n",
    "# 色はy値を表します（明るい = 高い値）\n",
    "# 黒 = -10以下、白 = +10以上\n",
    "# 0 = 中間のオレンジ\n",
    "# 線は値が等しい等高線です\n",
    "draw_2D_function(x1,x2,y)\n",
    "\n",
    "# TODO\n",
    "# omega_1をゼロに設定した場合、このプロットがどのように見えるか予測してください\n",
    "# コードを変更して、正しいか確認してください。\n",
    "\n",
    "# TODO\n",
    "# omega_2をゼロに設定した場合、このプロットがどのように見えるか予測してください\n",
    "# コードを変更して、正しいか確認してください。\n",
    "\n",
    "# TODO\n",
    "# betaを-5に設定した場合、このプロットがどのように見えるか予測してください\n",
    "# コードを変更して、正しいか確認してください\n"
   ]
  },
  {
   "cell_type": "markdown",
   "id": "0d9598fe",
   "metadata": {},
   "source": [
    "多くの線形関数を同時に計算したい場合がよくあります。例えば、3つの入力 $x_1$、$x_2$、$x_3$ があり、$y_1$ と $y_2$ を与える2つの線形関数を計算したいとします。もちろん、各方程式を個別に実行することでこれを行うことができます、<br><br>\n",
    "\n",
    "\\begin{align}y_1 &=& \\beta_1 + \\omega_{11} x_1 + \\omega_{12} x_2 + \\omega_{13} x_3\\\\\n",
    "y_2 &=& \\beta_2 + \\omega_{21} x_1 + \\omega_{22} x_2 + \\omega_{23} x_3.\n",
    "\\end{align}\n",
    "\n",
    "ただし、ベクトルと行列を使用すると、よりコンパクトに書くことができます：\n",
    "\n",
    "\\begin{equation}\n",
    "\\begin{bmatrix} y_1\\\\ y_2 \\end{bmatrix} = \\begin{bmatrix}\\beta_{1}\\\\\\beta_{2}\\end{bmatrix}+ \\begin{bmatrix}\\omega_{11}&\\omega_{12}&\\omega_{13}\\\\\\omega_{21}&\\omega_{22}&\\omega_{23}\\end{bmatrix}\\begin{bmatrix}x_{1}\\\\x_{2}\\\\x_{3}\\end{bmatrix},\n",
    "\\end{equation}\n",
    "または\n",
    "\n",
    "\\begin{equation}\n",
    "\\mathbf{y} = \\boldsymbol\\beta +\\boldsymbol\\Omega\\mathbf{x}.\n",
    "\\end{equation}\n",
    "\n",
    "と短く表記できます。ここで、小文字の太字記号はベクトルに使用されます。大文字の太字記号は行列に使用されます。\n",
    "\n"
   ]
  },
  {
   "cell_type": "code",
   "execution_count": null,
   "id": "df98f95c",
   "metadata": {},
   "outputs": [],
   "source": [
    "# Define a linear function with three inputs, x1, x2, and x_3\n",
    "def linear_function_3D(x1,x2,x3,beta,omega1,omega2,omega3):\n",
    "  # TODO -- replace the code below with formula for a single 3D linear equation\n",
    "  y = x1\n",
    "\n",
    "  return y"
   ]
  },
  {
   "cell_type": "markdown",
   "id": "2bee041e",
   "metadata": {},
   "source": [
    "個別の方程式とベクトル/行列形式の両方を使用して2つの線形方程式を計算し、同じ結果が得られることを確認しましょう"
   ]
  },
  {
   "cell_type": "code",
   "execution_count": null,
   "id": "54730743",
   "metadata": {},
   "outputs": [],
   "source": [
    "# Define the parameters\n",
    "beta1 = 0.5; beta2 = 0.2\n",
    "omega11 =  -1.0 ; omega12 = 0.4; omega13 = -0.3\n",
    "omega21 =  0.1  ; omega22 = 0.1; omega23 = 1.2\n",
    "\n",
    "# Define the inputs\n",
    "x1 = 4 ; x2 =-1; x3 = 2\n",
    "\n",
    "# Compute using the individual equations\n",
    "y1 = linear_function_3D(x1,x2,x3,beta1,omega11,omega12,omega13)\n",
    "y2 = linear_function_3D(x1,x2,x3,beta2,omega21,omega22,omega23)\n",
    "print(\"Individual equations\")\n",
    "print('y1 = %3.3f\\ny2 = %3.3f'%((y1,y2)))\n",
    "\n",
    "# Define vectors and matrices\n",
    "beta_vec = np.array([[beta1],[beta2]])\n",
    "omega_mat = np.array([[omega11,omega12,omega13],[omega21,omega22,omega23]])\n",
    "x_vec = np.array([[x1], [x2], [x3]])\n",
    "\n",
    "# Compute with vector/matrix form\n",
    "y_vec = beta_vec+np.matmul(omega_mat, x_vec)\n",
    "print(\"Matrix/vector form\")\n",
    "print('y1= %3.3f\\ny2 = %3.3f'%((y_vec[0][0],y_vec[1][0])))\n"
   ]
  },
  {
   "cell_type": "markdown",
   "id": "d5e94787",
   "metadata": {},
   "source": [
    "# 質問\n",
    "\n",
    "1. 3つの入力を持つ単一の線形方程式（つまり **linear_function_3D()**）は、3次元空間 ($x_1$,$x_2$,$x_3$) の各点に値yを関連付けます。これを視覚化することは可能ですか？位置(0,0,0)での値は何ですか？\n",
    "\n",
    "2. 個別の方程式と行列形式の両方を使用して、2つの入力 ($x_1$, $x_2$) を持つ3つの線形方程式を計算するコードを書いてください（入力 $\\beta_{i}$ と傾き $\\omega_{ij}$ には任意の値を設定できます）。"
   ]
  },
  {
   "cell_type": "markdown",
   "id": "c1afb68d",
   "metadata": {},
   "source": [
    "# 特殊関数\n",
    "\n",
    "本書全体を通して、いくつかの特殊関数を使用します（付録B.1.3を参照）。その中で最も重要なのは、対数関数と指数関数です。それらの性質を調べてみましょう。\n",
    "\n",
    "まず、実数直線 $[-\\infty,+\\infty]$ を非負の数 $[0,+\\infty]$ に写像する指数関数 $y=\\exp[x]=e^x$ から始めましょう。"
   ]
  },
  {
   "cell_type": "code",
   "execution_count": null,
   "id": "1587779e",
   "metadata": {},
   "outputs": [],
   "source": [
    "# 指数関数を描画\n",
    "\n",
    "# -5から5まで0.01刻みでx値の配列を定義\n",
    "x = np.arange(-5.0,5.0, 0.01)\n",
    "y = np.exp(x) ;\n",
    "\n",
    "# この関数をプロット\n",
    "fig, ax = plt.subplots()\n",
    "ax.plot(x,y,'r-')\n",
    "ax.set_ylim([0,100]);ax.set_xlim([-5,5])\n",
    "ax.set_xlabel('x'); ax.set_ylabel('exp[x]')\n",
    "plt.show()"
   ]
  },
  {
   "cell_type": "markdown",
   "id": "9406d703",
   "metadata": {},
   "source": [
    "# 質問\n",
    "\n",
    "1. $\\exp[0]$ は何ですか？\n",
    "2. $\\exp[1]$ は何ですか？\n",
    "3. $\\exp[-\\infty]$ は何ですか？\n",
    "4. $\\exp[+\\infty]$ は何ですか？\n",
    "5. 関数が凸である（convex）とは、関数上の任意の2点間に直線を引いたとき、その直線がこれら2点間のどこでも関数の上にある場合です。同様に、関数が凹である（concave）とは、任意の2点間の直線がこれら2点間のどこでも関数の下にある場合です。指数関数は凸、凹、またはどちらでもないのでしょうか？\n"
   ]
  },
  {
   "cell_type": "markdown",
   "id": "ddb08bdf",
   "metadata": {},
   "source": [
    "次に、対数関数 $y=\\log[x]$ を考えてみましょう。本書では常に自然（底 $e$）対数を使用します。対数関数は非負の数 $[0,\\infty]$ を実数 $[-\\infty,\\infty]$ に写像します。これは指数関数の逆関数です。したがって、$\\log[x]$ を計算するとき、実際には「$e^y=x$ となる数 $y$ は何か？」と尋ねているのです。"
   ]
  },
  {
   "cell_type": "code",
   "execution_count": null,
   "id": "225b1dfb",
   "metadata": {},
   "outputs": [],
   "source": [
    "# 対数関数を描画\n",
    "\n",
    "# -5から5まで0.01刻みでx値の配列を定義\n",
    "x = np.arange(0.01,5.0, 0.01)\n",
    "y = np.log(x) ;\n",
    "\n",
    "# この関数をプロット\n",
    "fig, ax = plt.subplots()\n",
    "ax.plot(x,y,'r-')\n",
    "ax.set_ylim([-5,5]);ax.set_xlim([0,5])\n",
    "ax.set_xlabel('x'); ax.set_ylabel('$\\log[x]$')\n",
    "plt.show()"
   ]
  },
  {
   "cell_type": "markdown",
   "id": "fe2c72c5",
   "metadata": {},
   "source": [
    "# 質問\n",
    "\n",
    "1. $\\log[0]$ は何ですか？\n",
    "2. $\\log[1]$ は何ですか？\n",
    "3. $\\log[e]$ は何ですか？\n",
    "4. $\\log[\\exp[3]]$ は何ですか？\n",
    "5. $\\exp[\\log[4]]$ は何ですか？\n",
    "6. $\\log[-1]$ は何ですか？\n",
    "7. 対数関数は凹または凸のどちらですか？\n"
   ]
  }
 ],
 "metadata": {
  "language_info": {
   "name": "python"
  }
 },
 "nbformat": 4,
 "nbformat_minor": 5
}
