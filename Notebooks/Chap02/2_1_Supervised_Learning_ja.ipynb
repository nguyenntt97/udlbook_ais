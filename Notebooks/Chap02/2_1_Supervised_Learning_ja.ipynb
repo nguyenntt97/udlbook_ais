{
 "cells": [
  {
   "cell_type": "markdown",
   "id": "59ea359c",
   "metadata": {},
   "source": [
    "<a href=\"https://colab.research.google.com/github/udlbook/udlbook/blob/main/Notebooks/Chap02/2_1_Supervised_Learning.ipynb\" target=\"_parent\"><img src=\"https://colab.research.google.com/assets/colab-badge.svg\" alt=\"Open In Colab\"/></a>"
   ]
  },
  {
   "cell_type": "markdown",
   "id": "1b47a3f7",
   "metadata": {},
   "source": [
    "# ノートブック 2.1 教師あり学習\n",
    "\n",
    "このノートブックの目的は、本の第2章で説明されている線形回帰モデルを探索することです。\n",
    "\n",
    "以下のセルを順番に実行してください。様々な場所で「TODO」という言葉が表示されます。これらの場所では指示に従って、関数を完成させるコードを書いてください。テキスト中には質問も散りばめられています。\n",
    "\n",
    "間違いを見つけたり、提案がある場合は udlbookmail@gmail.com までご連絡ください。"
   ]
  },
  {
   "cell_type": "code",
   "execution_count": null,
   "id": "cd937abc",
   "metadata": {},
   "outputs": [],
   "source": [
    "# 数学ライブラリ\n",
    "import numpy as np\n",
    "# プロットライブラリ\n",
    "import matplotlib.pyplot as plt"
   ]
  },
  {
   "cell_type": "code",
   "execution_count": null,
   "id": "c090caef",
   "metadata": {},
   "outputs": [],
   "source": [
    "# 入力/出力データの作成\n",
    "x = np.array([0.03, 0.19, 0.34, 0.46, 0.78, 0.81, 1.08, 1.18, 1.39, 1.60, 1.65, 1.90])\n",
    "y = np.array([0.67, 0.85, 1.05, 1.0, 1.40, 1.5, 1.3, 1.54, 1.55, 1.68, 1.73, 1.6 ])\n",
    "\n",
    "print(x)\n",
    "print(y)"
   ]
  },
  {
   "cell_type": "code",
   "execution_count": null,
   "id": "96cd7185",
   "metadata": {},
   "outputs": [],
   "source": [
    "# 1次元線形回帰モデルの定義\n",
    "def f(x, phi0, phi1):\n",
    "  # TODO : この行を線形回帰モデル（式2.4）で置き換えてください\n",
    "  y = x\n",
    "\n",
    "  return y"
   ]
  },
  {
   "cell_type": "code",
   "execution_count": null,
   "id": "99b595a4",
   "metadata": {},
   "outputs": [],
   "source": [
    "# データをプロットするためのヘルパー関数\n",
    "def plot(x, y, phi0, phi1):\n",
    "    fig,ax = plt.subplots()\n",
    "    ax.scatter(x,y)\n",
    "    plt.xlim([0,2.0])\n",
    "    plt.ylim([0,2.0])\n",
    "    ax.set_xlabel('Input, $x$')\n",
    "    ax.set_ylabel('Output, $y$')\n",
    "    # 直線を描画\n",
    "    x_line = np.arange(0,2,0.01)\n",
    "    y_line = f(x_line, phi0, phi1)\n",
    "    plt.plot(x_line, y_line,'b-',lw=2)\n",
    "\n",
    "    plt.show()"
   ]
  },
  {
   "cell_type": "code",
   "execution_count": null,
   "id": "f52bcb2b",
   "metadata": {},
   "outputs": [],
   "source": [
    "# 図2.2bのように切片と傾きを設定\n",
    "phi0 = 0.4 ; phi1 = 0.2\n",
    "# データとモデルをプロット\n",
    "plot(x,y,phi0,phi1)"
   ]
  },
  {
   "cell_type": "code",
   "execution_count": null,
   "id": "811262ea",
   "metadata": {},
   "outputs": [],
   "source": [
    "# 損失を計算する関数\n",
    "def compute_loss(x,y,phi0,phi1):\n",
    "\n",
    "  # TODO この行を損失計算（式2.5）で置き換えてください\n",
    "  loss = 0\n",
    "\n",
    "\n",
    "  return loss"
   ]
  },
  {
   "cell_type": "code",
   "execution_count": null,
   "id": "942812cd",
   "metadata": {},
   "outputs": [],
   "source": [
    "# 現在のモデルの損失を計算\n",
    "loss = compute_loss(x,y,phi0,phi1)\n",
    "print(f'Your Loss = {loss:3.2f}, Ground truth =7.07')"
   ]
  },
  {
   "cell_type": "code",
   "execution_count": null,
   "id": "a16e75c0",
   "metadata": {},
   "outputs": [],
   "source": [
    "# 図2.2cのように切片と傾きを設定\n",
    "phi0 = 1.60 ; phi1 =-0.8\n",
    "# データとモデルをプロット\n",
    "plot(x,y,phi0,phi1)\n",
    "loss = compute_loss(x,y,phi0,phi1)\n",
    "print(f'Your Loss = {loss:3.2f}, Ground truth =10.28')"
   ]
  },
  {
   "cell_type": "code",
   "execution_count": null,
   "id": "e06d91ae",
   "metadata": {},
   "outputs": [],
   "source": [
    "# TODO -- パラメータを手動で変更してモデルを適合させる\n",
    "# 最初にphi1を固定し、phi0を変更して損失をこれ以上下げられなくなるまで調整する\n",
    "# 次にphi0を固定し、phi1を変更して損失をこれ以上下げられなくなるまで調整する\n",
    "# 図2.2dのようにモデルが適合するパラメータセットを見つけるまでこの過程を繰り返す\n",
    "# 手動で行うか、または自動的に降下するコードを書くこともできます\n",
    "# これらの値から開始:\n",
    "phi0 = 1.60 ; phi1 =-0.8\n",
    "\n",
    "plot(x,y,phi0,phi1)\n",
    "print(f'Your Loss = {compute_loss(x,y,phi0,phi1):3.2f}')"
   ]
  },
  {
   "cell_type": "markdown",
   "id": "127d0b29",
   "metadata": {},
   "source": [
    "# 損失関数の可視化\n",
    "\n",
    "上記のプロセスは、損失関数上で座標ごとに降下することと等価です。<br>\n",
    "\n",
    "それでは、その関数をプロットしてみましょう。"
   ]
  },
  {
   "cell_type": "code",
   "execution_count": null,
   "id": "933cc67b",
   "metadata": {},
   "outputs": [],
   "source": [
    "# phi0とphi1の可能な値の2次元グリッドを作成\n",
    "phi0_mesh, phi1_mesh = np.meshgrid(np.arange(0.0,2.0,0.02), np.arange(-1.0,1.0,0.02))\n",
    "\n",
    "# 損失用の2次元配列を作成\n",
    "all_losses = np.zeros_like(phi1_mesh)\n",
    "# phi0、phi1の各2次元の組み合わせを実行し、損失を計算\n",
    "for indices,temp in np.ndenumerate(phi1_mesh):\n",
    "    all_losses[indices] = compute_loss(x,y, phi0_mesh[indices], phi1_mesh[indices])\n"
   ]
  },
  {
   "cell_type": "code",
   "execution_count": null,
   "id": "7392cccd",
   "metadata": {},
   "outputs": [],
   "source": [
    "# 損失関数をヒートマップとしてプロット\n",
    "fig = plt.figure()\n",
    "ax = plt.axes()\n",
    "fig.set_size_inches(7,7)\n",
    "levels = 256\n",
    "ax.contourf(phi0_mesh, phi1_mesh, all_losses ,levels)\n",
    "levels = 40\n",
    "ax.contour(phi0_mesh, phi1_mesh, all_losses ,levels, colors=['#80808080'])\n",
    "ax.set_ylim([1,-1])\n",
    "ax.set_xlabel(r'Intercept, $\\phi_0$')\n",
    "ax.set_ylabel(r'Slope, $\\phi_1$')\n",
    "\n",
    "# 損失関数上の最適適合直線の位置をプロット\n",
    "# 最小値に近いはずです\n",
    "ax.plot(phi0,phi1,'ro')\n",
    "plt.show()"
   ]
  }
 ],
 "metadata": {
  "kernelspec": {
   "display_name": "ais-workshop",
   "language": "python",
   "name": "python3"
  },
  "language_info": {
   "name": "python",
   "version": "3.10.18"
  }
 },
 "nbformat": 4,
 "nbformat_minor": 5
}
