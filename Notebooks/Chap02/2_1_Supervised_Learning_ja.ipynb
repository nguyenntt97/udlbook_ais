{
 "cells": [
  {
   "cell_type": "markdown",
   "id": "59ea359c",
   "metadata": {},
   "source": [
    "<a href=\"https://colab.research.google.com/github/udlbook/udlbook/blob/main/Notebooks/Chap02/2_1_Supervised_Learning.ipynb\" target=\"_parent\"><img src=\"https://colab.research.google.com/assets/colab-badge.svg\" alt=\"Open In Colab\"/></a>"
   ]
  },
  {
   "cell_type": "markdown",
   "id": "1b47a3f7",
   "metadata": {},
   "source": [
    "# ノートブック 2.1 教師あり学習\n",
    "\n",
    "このノートブックの目的は、本の第2章で説明されている線形回帰モデルを探索することです。\n",
    "\n",
    "以下のセルを順番に実行してください。様々な場所で「TODO」という言葉が表示されます。これらの場所では指示に従って、関数を完成させるコードを書いてください。テキスト中には質問も散りばめられています。\n",
    "\n",
    "間違いを見つけたり、提案がある場合は udlbookmail@gmail.com までご連絡ください。"
   ]
  },
  {
   "cell_type": "code",
   "execution_count": null,
   "id": "cd937abc",
   "metadata": {},
   "outputs": [],
   "source": [
    "# Math library\n",
    "import numpy as np\n",
    "# Plotting library\n",
    "import matplotlib.pyplot as plt"
   ]
  },
  {
   "cell_type": "code",
   "execution_count": null,
   "id": "c090caef",
   "metadata": {},
   "outputs": [],
   "source": [
    "# Create some input / output data\n",
    "x = np.array([0.03, 0.19, 0.34, 0.46, 0.78, 0.81, 1.08, 1.18, 1.39, 1.60, 1.65, 1.90])\n",
    "y = np.array([0.67, 0.85, 1.05, 1.0, 1.40, 1.5, 1.3, 1.54, 1.55, 1.68, 1.73, 1.6 ])\n",
    "\n",
    "print(x)\n",
    "print(y)"
   ]
  },
  {
   "cell_type": "code",
   "execution_count": null,
   "id": "96cd7185",
   "metadata": {},
   "outputs": [],
   "source": [
    "# Define 1D linear regression model\n",
    "def f(x, phi0, phi1):\n",
    "  # TODO :  Replace this line with the linear regression model (eq 2.4)\n",
    "  y = x\n",
    "\n",
    "  return y"
   ]
  },
  {
   "cell_type": "code",
   "execution_count": null,
   "id": "99b595a4",
   "metadata": {},
   "outputs": [],
   "source": [
    "# Function to help plot the data\n",
    "def plot(x, y, phi0, phi1):\n",
    "    fig,ax = plt.subplots()\n",
    "    ax.scatter(x,y)\n",
    "    plt.xlim([0,2.0])\n",
    "    plt.ylim([0,2.0])\n",
    "    ax.set_xlabel('Input, $x$')\n",
    "    ax.set_ylabel('Output, $y$')\n",
    "    # Draw line\n",
    "    x_line = np.arange(0,2,0.01)\n",
    "    y_line = f(x_line, phi0, phi1)\n",
    "    plt.plot(x_line, y_line,'b-',lw=2)\n",
    "\n",
    "    plt.show()"
   ]
  },
  {
   "cell_type": "code",
   "execution_count": null,
   "id": "f52bcb2b",
   "metadata": {},
   "outputs": [],
   "source": [
    "# Set the intercept and slope as in figure 2.2b\n",
    "phi0 = 0.4 ; phi1 = 0.2\n",
    "# Plot the data and the model\n",
    "plot(x,y,phi0,phi1)"
   ]
  },
  {
   "cell_type": "code",
   "execution_count": null,
   "id": "811262ea",
   "metadata": {},
   "outputs": [],
   "source": [
    "# Function to calculate the loss\n",
    "def compute_loss(x,y,phi0,phi1):\n",
    "\n",
    "  # TODO Replace this line with the loss calculation (equation 2.5)\n",
    "  loss = 0\n",
    "\n",
    "\n",
    "  return loss"
   ]
  },
  {
   "cell_type": "code",
   "execution_count": null,
   "id": "942812cd",
   "metadata": {},
   "outputs": [],
   "source": [
    "# Compute the loss for our current model\n",
    "loss = compute_loss(x,y,phi0,phi1)\n",
    "print(f'Your Loss = {loss:3.2f}, Ground truth =7.07')"
   ]
  },
  {
   "cell_type": "code",
   "execution_count": null,
   "id": "a16e75c0",
   "metadata": {},
   "outputs": [],
   "source": [
    "# Set the intercept and slope as in figure 2.2c\n",
    "phi0 = 1.60 ; phi1 =-0.8\n",
    "# Plot the data and the model\n",
    "plot(x,y,phi0,phi1)\n",
    "loss = compute_loss(x,y,phi0,phi1)\n",
    "print(f'Your Loss = {loss:3.2f}, Ground truth =10.28')"
   ]
  },
  {
   "cell_type": "code",
   "execution_count": null,
   "id": "e06d91ae",
   "metadata": {},
   "outputs": [],
   "source": [
    "# TODO -- Change the parameters manually to fit the model\n",
    "# First fix phi1 and try changing phi0 until you can't make the loss go down any more\n",
    "# Then fix phi0 and try changing phi1 until you can't make the loss go down any more\n",
    "# Repeat this process until you find a set of parameters that fit the model as in figure 2.2d\n",
    "# You can either do this by hand, or if you want to get fancy, write code to descent automatically in this way\n",
    "# Start at these values:\n",
    "phi0 = 1.60 ; phi1 =-0.8\n",
    "\n",
    "plot(x,y,phi0,phi1)\n",
    "print(f'Your Loss = {compute_loss(x,y,phi0,phi1):3.2f}')"
   ]
  },
  {
   "cell_type": "markdown",
   "id": "127d0b29",
   "metadata": {},
   "source": [
    "# 損失関数の可視化\n",
    "\n",
    "上記のプロセスは、損失関数上で座標ごとに降下することと等価です。<br>\n",
    "\n",
    "それでは、その関数をプロットしてみましょう。"
   ]
  },
  {
   "cell_type": "code",
   "execution_count": null,
   "id": "933cc67b",
   "metadata": {},
   "outputs": [],
   "source": [
    "# Make a 2D grid of possible phi0 and phi1 values\n",
    "phi0_mesh, phi1_mesh = np.meshgrid(np.arange(0.0,2.0,0.02), np.arange(-1.0,1.0,0.02))\n",
    "\n",
    "# Make a 2D array for the losses\n",
    "all_losses = np.zeros_like(phi1_mesh)\n",
    "# Run through each 2D combination of phi0, phi1 and compute loss\n",
    "for indices,temp in np.ndenumerate(phi1_mesh):\n",
    "    all_losses[indices] = compute_loss(x,y, phi0_mesh[indices], phi1_mesh[indices])\n"
   ]
  },
  {
   "cell_type": "code",
   "execution_count": null,
   "id": "7392cccd",
   "metadata": {},
   "outputs": [],
   "source": [
    "# Plot the loss function as a heatmap\n",
    "fig = plt.figure()\n",
    "ax = plt.axes()\n",
    "fig.set_size_inches(7,7)\n",
    "levels = 256\n",
    "ax.contourf(phi0_mesh, phi1_mesh, all_losses ,levels)\n",
    "levels = 40\n",
    "ax.contour(phi0_mesh, phi1_mesh, all_losses ,levels, colors=['#80808080'])\n",
    "ax.set_ylim([1,-1])\n",
    "ax.set_xlabel(r'Intercept, $\\phi_0$')\n",
    "ax.set_ylabel(r'Slope, $\\phi_1$')\n",
    "\n",
    "# Plot the position of your best fitting line on the loss function\n",
    "# It should be close to the minimum\n",
    "ax.plot(phi0,phi1,'ro')\n",
    "plt.show()"
   ]
  }
 ],
 "metadata": {
  "kernelspec": {
   "display_name": "ais-workshop",
   "language": "python",
   "name": "python3"
  },
  "language_info": {
   "name": "python",
   "version": "3.10.18"
  }
 },
 "nbformat": 4,
 "nbformat_minor": 5
}
