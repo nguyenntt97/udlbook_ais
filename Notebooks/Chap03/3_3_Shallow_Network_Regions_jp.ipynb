{
  "cells": [
    {
      "cell_type": "markdown",
      "metadata": {
        "colab_type": "text",
        "id": "view-in-github"
      },
      "source": [
        "<a href=\"https://colab.research.google.com/github/udlbook/udlbook/blob/main/Notebooks/Chap03/3_3_Shallow_Network_Regions.ipynb\" target=\"_parent\"><img src=\"https://colab.research.google.com/assets/colab-badge.svg\" alt=\"Open In Colab\"/></a>"
      ]
    },
    {
      "cell_type": "markdown",
      "metadata": {
        "id": "DCTC8fQ6cp-n"
      },
      "source": [
        "# **ノートブック 3.3 -- 浅層ネットワークの領域**\n",
        "\n",
        "このノートブックの目的は、書籍の図3.9に示されている線形領域の最大可能数を計算することです。\n",
        "\n",
        "以下のセルを順番に実行してください。様々な場所で「TODO」という文字が表示されます。これらの場所では指示に従ってコードを書き、関数を完成させてください。テキストの中には質問も散りばめられています。\n",
        "\n",
        "間違いを見つけたり、提案がある場合は、udlbookmail@gmail.com までご連絡ください。"
      ]
    },
    {
      "cell_type": "code",
      "execution_count": null,
      "metadata": {
        "id": "W3C1ZA1gcpq_"
      },
      "outputs": [],
      "source": [
        "# 数学ライブラリをインポート\n",
        "import numpy as np\n",
        "# プロットライブラリをインポート\n",
        "import matplotlib.pyplot as plt\n",
        "# 数学ライブラリをインポート\n",
        "import math"
      ]
    },
    {
      "cell_type": "markdown",
      "metadata": {
        "id": "TbfanfXBe84L"
      },
      "source": [
        "$D_i$個の入力と$D$個の隠れユニットを持つ浅層ニューラルネットワークによって作成される領域数$N$は、Zaslavskyの公式によって与えられます：\n",
        "\n",
        "\\begin{equation}N = \\sum_{j=0}^{D_{i}}\\binom{D}{j}=\\sum_{j=0}^{D_{i}} \\frac{D!}{(D-j)!j!} \\end{equation} \n",
        "\n"
      ]
    },
    {
      "cell_type": "code",
      "execution_count": null,
      "metadata": {
        "id": "4UQ2n0RWcgOb"
      },
      "outputs": [],
      "source": [
        "def number_regions(Di, D):\n",
        "  # TODO -- Zaslavskyの公式を実装してください\n",
        "  # math.comb()を使用できます https://www.w3schools.com/python/ref_math_comb.asp\n",
        "  # このコードを置き換えてください\n",
        "  N = 1;\n",
        "\n",
        "  return N"
      ]
    },
    {
      "cell_type": "code",
      "execution_count": null,
      "metadata": {
        "id": "AqSUfuJDigN9"
      },
      "outputs": [],
      "source": [
        "# 図3.8jのように2次元入力（Di=2）と3つの隠れユニット（D=3）の領域数を計算\n",
        "N = number_regions(2, 3)\n",
        "print(f\"Di=2, D=3, 領域数 = {int(N)}, 真の値 = 7\")"
      ]
    },
    {
      "cell_type": "code",
      "execution_count": null,
      "metadata": {
        "id": "krNKPV9gjCu-"
      },
      "outputs": [],
      "source": [
        "# 10次元入力（Di=10）と50個の隠れユニット（D=50）の領域数を計算\n",
        "N = number_regions(10, 50)\n",
        "print(f\"Di=10, D=50, 領域数 = {int(N)}, 真の値 = 13432735556\")"
      ]
    },
    {
      "cell_type": "markdown",
      "metadata": {
        "id": "rk1a2LqGkO9u"
      },
      "source": [
        "これは機能しますが、複雑な問題があります。隠れユニット数$D$が入力次元数$D_i$より少ない場合、公式は失敗します。この場合、領域数は$2^D$個だけになります（理由を理解するには図3.10を参照してください）。\n",
        "\n",
        "これを実演してみましょう："
      ]
    },
    {
      "cell_type": "code",
      "execution_count": null,
      "metadata": {
        "id": "uq5IeAZTkIMg"
      },
      "outputs": [],
      "source": [
        "# 実装方法によっては、$D_i > D$の場合に計算が失敗することがあります（心配無用...）\n",
        "try:\n",
        "  N = number_regions(10, 8)\n",
        "  print(f\"Di=10, D=8, 領域数 = {int(N)}, 真の値 = 256\")\n",
        "except Exception as error:\n",
        "    print(\"例外が発生しました:\", error)"
      ]
    },
    {
      "cell_type": "code",
      "execution_count": null,
      "metadata": {
        "id": "Ig8Kg_ADjoQd"
      },
      "outputs": [],
      "source": [
        "# D<Diの場合の計算を適切に行いましょう（書籍の図3.10を参照）\n",
        "D = 8; Di = 10\n",
        "N = np.power(2,D)\n",
        "# 同等にDを2回使ってnumber_regionsを呼び出すこともできます\n",
        "# なぜこれが機能するかを考えてみてください\n",
        "N2 = number_regions (D,D)\n",
        "print(f\"Di=10, D=8, 領域数 = {int(N)}, 領域数 = {int(N2)}, 真の値 = 256\")"
      ]
    },
    {
      "cell_type": "code",
      "execution_count": null,
      "metadata": {
        "id": "5XnEOp0Bj_QK"
      },
      "outputs": [],
      "source": [
        "# 図3.9aのグラフをプロットしましょう\n",
        "dims = np.array([1,5,10,50,100])\n",
        "regions = np.zeros((dims.shape[0], 1000))\n",
        "for c_dim in range(dims.shape[0]):\n",
        "    D_i = dims[c_dim]\n",
        "    print (f\"{D_i}入力次元の領域数を計算中\")\n",
        "    for D in range(1000):\n",
        "        regions[c_dim, D] = number_regions(np.min([D_i,D]), D)\n",
        "\n",
        "fig, ax = plt.subplots()\n",
        "ax.semilogy(regions[0,:],'k-')\n",
        "ax.semilogy(regions[1,:],'b-')\n",
        "ax.semilogy(regions[2,:],'m-')\n",
        "ax.semilogy(regions[3,:],'c-')\n",
        "ax.semilogy(regions[4,:],'y-')\n",
        "ax.legend(['$D_i$=1', '$D_i$=5', '$D_i$=10', '$D_i$=50', '$D_i$=100'])\n",
        "ax.set_xlabel(\"隠れユニット数, D\")\n",
        "ax.set_ylabel(\"領域数, N\")\n",
        "plt.xlim([0,1000])\n",
        "plt.ylim([1e1,1e150])\n",
        "plt.show()"
      ]
    },
    {
      "cell_type": "code",
      "execution_count": null,
      "metadata": {
        "id": "Pav1OsCnpm6P"
      },
      "outputs": [],
      "source": [
        "# 図3.9bのようにパラメータ数の関数として領域数を計算してプロットしましょう\n",
        "# まず入力次元と隠れユニット数の関数としてパラメータ数を計算する関数を書きましょう（出力が1つだけと仮定）\n",
        "\n",
        "def number_parameters(D_i, D):\n",
        "  # TODO -- このコードを適切な計算に置き換えてください\n",
        "  N = 1\n",
        "\n",
        "  return N ;"
      ]
    },
    {
      "cell_type": "code",
      "execution_count": null,
      "metadata": {
        "id": "VbhDmZ1gwkQj"
      },
      "outputs": [],
      "source": [
        "# コードをテストしましょう\n",
        "N = number_parameters(10, 8)\n",
        "print(f\"Di=10, D=8, パラメータ数 = {int(N)}, 真の値 = 97\")"
      ]
    },
    {
      "cell_type": "code",
      "execution_count": null,
      "metadata": {
        "id": "AH4nA50Au8-a"
      },
      "outputs": [],
      "source": [
        "# 図3.9bのグラフをプロットしましょう（約1分かかります）\n",
        "dims = np.array([1,5,10,50,100])\n",
        "regions = np.zeros((dims.shape[0], 200))\n",
        "params = np.zeros((dims.shape[0], 200))\n",
        "\n",
        "# 処理を高速化するために、今回は5つの線を別々に計算します\n",
        "for c_dim in range(dims.shape[0]):\n",
        "    D_i = dims[c_dim]\n",
        "    print (f\"{D_i}入力次元の領域数を計算中\")\n",
        "    for c_hidden in range(1, 200):\n",
        "        # 異なる入力サイズに対して異なる範囲の隠れ変数数を反復処理\n",
        "        D = int(c_hidden * 500 / D_i)\n",
        "        params[c_dim, c_hidden] =  D_i * D +D + D +1\n",
        "        regions[c_dim, c_hidden] = number_regions(np.min([D_i,D]), D)\n",
        "\n",
        "fig, ax = plt.subplots()\n",
        "ax.semilogy(params[0,:], regions[0,:],'k-')\n",
        "ax.semilogy(params[1,:], regions[1,:],'b-')\n",
        "ax.semilogy(params[2,:], regions[2,:],'m-')\n",
        "ax.semilogy(params[3,:], regions[3,:],'c-')\n",
        "ax.semilogy(params[4,:], regions[4,:],'y-')\n",
        "ax.legend(['$D_i$=1', '$D_i$=5', '$D_i$=10', '$D_i$=50', '$D_i$=100'])\n",
        "ax.set_xlabel(\"パラメータ数, D\")\n",
        "ax.set_ylabel(\"領域数, N\")\n",
        "plt.xlim([0,100000])\n",
        "plt.ylim([1e1,1e150])\n",
        "plt.show()"
      ]
    }
  ],
  "metadata": {
    "colab": {
      "include_colab_link": true,
      "provenance": []
    },
    "kernelspec": {
      "display_name": "ais-workshop",
      "language": "python",
      "name": "python3"
    },
    "language_info": {
      "name": "python",
      "version": "3.10.18"
    }
  },
  "nbformat": 4,
  "nbformat_minor": 0
}
