{
  "cells": [
    {
      "cell_type": "markdown",
      "metadata": {
        "colab_type": "text",
        "id": "view-in-github"
      },
      "source": [
        "<a href=\"https://colab.research.google.com/github/udlbook/udlbook/blob/main/Notebooks/Chap03/3_2_Shallow_Networks_II.ipynb\" target=\"_parent\"><img src=\"https://colab.research.google.com/assets/colab-badge.svg\" alt=\"Open In Colab\"/></a>"
      ]
    },
    {
      "cell_type": "markdown",
      "metadata": {
        "id": "1Z6LB4Ybn1oN"
      },
      "source": [
        "# **ノートブック 3.2 -- 浅いニューラルネットワーク II**\n",
        "\n",
        "このノートブックの目的は、2次元入力を持つ浅いニューラルネットワークに慣れ親しむことです。図3.8に類似した例を通して作業し、異なる活性化関数を実験します。<br><br>\n",
        "\n",
        "以下のセルを順番に実行しながら進めてください。各所で「TODO」という言葉が見つかります。これらの場所の指示に従って、関数を完成させるコードを書いてください。テキスト中には質問も散りばめられています。\n",
        "\n",
        "間違いを見つけたり、何か提案がありましたら、udlbookmail@gmail.com までご連絡ください。"
      ]
    },
    {
      "cell_type": "code",
      "execution_count": null,
      "metadata": {
        "id": "hAM55ZjSncOk"
      },
      "outputs": [],
      "source": [
        "# 数学ライブラリをインポート\n",
        "import numpy as np\n",
        "# プロットライブラリをインポート\n",
        "import matplotlib.pyplot as plt"
      ]
    },
    {
      "cell_type": "code",
      "execution_count": null,
      "metadata": {
        "id": "IHtCP0t2HC4c"
      },
      "outputs": [],
      "source": [
        "# 2D関数を描画するコード -- 何が起こっているかを理解するために読んでください。変更する必要はありません\n",
        "def draw_2D_function(ax, x1_mesh, x2_mesh, y):\n",
        "    pos = ax.contourf(x1_mesh, x2_mesh, y, levels=256 ,cmap = 'hot', vmin=-10,vmax=10.0)\n",
        "    ax.set_xlabel('x1');ax.set_ylabel('x2')\n",
        "    levels = np.arange(-10,10,1.0)\n",
        "    ax.contour(x1_mesh, x2_mesh, y, levels, cmap='winter')\n",
        "\n",
        "# 浅いニューラルネットワークをプロット。入力範囲を[0,10],[0,10]、出力範囲を[-10,10]と仮定\n",
        "def plot_neural_2_inputs(x1,x2, y, pre_1, pre_2, pre_3, act_1, act_2, act_3, w_act_1, w_act_2, w_act_3):\n",
        "\n",
        "  fig, ax = plt.subplots(3,3)\n",
        "  fig.set_size_inches(8.5, 8.5)\n",
        "  fig.tight_layout(pad=3.0)\n",
        "  draw_2D_function(ax[0,0], x1,x2,pre_1); ax[0,0].set_title('Preactivation')\n",
        "  draw_2D_function(ax[0,1], x1,x2,pre_2); ax[0,1].set_title('Preactivation')\n",
        "  draw_2D_function(ax[0,2], x1,x2,pre_3); ax[0,2].set_title('Preactivation')\n",
        "  draw_2D_function(ax[1,0], x1,x2,act_1); ax[1,0].set_title('Activation')\n",
        "  draw_2D_function(ax[1,1], x1,x2,act_2); ax[1,1].set_title('Activation')\n",
        "  draw_2D_function(ax[1,2], x1,x2,act_3); ax[1,2].set_title('Activation')\n",
        "  draw_2D_function(ax[2,0], x1,x2,w_act_1); ax[2,0].set_title('Weighted Act')\n",
        "  draw_2D_function(ax[2,1], x1,x2,w_act_2); ax[2,1].set_title('Weighted Act')\n",
        "  draw_2D_function(ax[2,2], x1,x2,w_act_3); ax[2,2].set_title('Weighted Act')\n",
        "  plt.show()\n",
        "\n",
        "  fig, ax = plt.subplots()\n",
        "  draw_2D_function(ax,x1,x2,y)\n",
        "  ax.set_title('Network output, $y$')\n",
        "  ax.set_aspect(1.0)\n",
        "  plt.show()"
      ]
    },
    {
      "cell_type": "code",
      "execution_count": null,
      "metadata": {
        "id": "Lw71laEeJgKs"
      },
      "outputs": [],
      "source": [
        "# 正規化線形ユニット（ReLU）関数を定義\n",
        "def ReLU(preactivation):\n",
        "  activation = preactivation.clip(0.0)\n",
        "  return activation"
      ]
    },
    {
      "cell_type": "code",
      "execution_count": null,
      "metadata": {
        "id": "VIZA8HywIjfl"
      },
      "outputs": [],
      "source": [
        "# 2つの入力、1つの出力、3つの隠れユニットを持つ浅いニューラルネットワークを定義\n",
        "def shallow_2_1_3(x1,x2, activation_fn, phi_0,phi_1,phi_2,phi_3, theta_10, theta_11,\\\n",
        "                  theta_12, theta_20, theta_21, theta_22, theta_30, theta_31, theta_32):\n",
        "  # TODO 以下の行を置き換えて、thetaパラメータから3つの初期線形関数を計算してください\n",
        "  # （図3.8a-c）。これらは前活性化です\n",
        "  pre_1 = np.zeros_like(x1)\n",
        "  pre_2 = np.zeros_like(x1)\n",
        "  pre_3 = np.zeros_like(x1)\n",
        "\n",
        "  # これらをReLU関数に通して、図3.8 d-fのように活性化を計算\n",
        "  act_1 = activation_fn(pre_1)\n",
        "  act_2 = activation_fn(pre_2)\n",
        "  act_3 = activation_fn(pre_3)\n",
        "\n",
        "  # TODO 以下のコードを置き換えて、phi1、phi2、phi3を使って活性化に重みを付けてください\n",
        "  # 図3.8 g-iに相当するものを作成します\n",
        "  w_act_1 = np.zeros_like(x1)\n",
        "  w_act_2 = np.zeros_like(x1)\n",
        "  w_act_3 = np.zeros_like(x1)\n",
        "\n",
        "  # TODO 以下のコードを置き換えて、重み付き活性化を結合し、\n",
        "  # phi_0を追加して図3.8jのように出力を作成してください\n",
        "  y = np.zeros_like(x1)\n",
        "\n",
        "  # 計算したすべてを返す\n",
        "  return y, pre_1, pre_2, pre_3, act_1, act_2, act_3, w_act_1, w_act_2, w_act_3"
      ]
    },
    {
      "cell_type": "code",
      "execution_count": null,
      "metadata": {
        "id": "51lvc9bfIrs4"
      },
      "outputs": [],
      "source": [
        "# パラメータを定義してニューラルネットワークを実行\n",
        "theta_10 =  -4.0 ;  theta_11 = 0.9; theta_12 = 0.0\n",
        "theta_20 =  5.0  ; theta_21 = -0.9 ; theta_22 = -0.5\n",
        "theta_30 =  -7  ; theta_31 = 0.5; theta_32 = 0.9\n",
        "phi_0 = 0.0; phi_1 = -2.0; phi_2 = 2.0; phi_3 = 1.5\n",
        "\n",
        "x1 = np.arange(0.0, 10.0, 0.1)\n",
        "x2 = np.arange(0.0, 10.0, 0.1)\n",
        "x1,x2 = np.meshgrid(x1,x2)  # https://www.geeksforgeeks.org/numpy-meshgrid-function/\n",
        "\n",
        "# これらの入力値に対してニューラルネットワークを実行\n",
        "y, pre_1, pre_2, pre_3, act_1, act_2, act_3, w_act_1, w_act_2, w_act_3 = \\\n",
        "    shallow_2_1_3(x1,x2, ReLU, phi_0,phi_1,phi_2,phi_3, theta_10, theta_11, theta_12, theta_20, theta_21, theta_22, theta_30, theta_31, theta_32)\n",
        "# そしてプロット\n",
        "plot_neural_2_inputs(x1,x2, y, pre_1, pre_2, pre_3, act_1, act_2, act_3, w_act_1, w_act_2, w_act_3)"
      ]
    },
    {
      "cell_type": "markdown",
      "metadata": {
        "id": "j62IizIfMYZK"
      },
      "source": [
        "このモデルによって作られる異なる線形多面体はいくつありますか？ネットワーク出力でそれぞれを特定してください。"
      ]
    },
    {
      "cell_type": "markdown",
      "metadata": {
        "id": "Xl6LcrUyM7Lh"
      },
      "source": [
        "今度は、このモデルを拡張して2つの出力$y_1$と$y_2$を持つようにします。それぞれを別々のヒートマップで可視化できます。これで、これらの出力のそれぞれに対応するパラメータセット$\\phi_{10}, \\phi_{11}, \\phi_{12}, \\phi_{13}$と$\\phi_{20}, \\phi_{21}, \\phi_{22}, \\phi_{23}$を持つことになります。"
      ]
    },
    {
      "cell_type": "code",
      "execution_count": null,
      "metadata": {
        "id": "DlznqZWdPtjI"
      },
      "outputs": [],
      "source": [
        "# 浅いニューラルネットワークをプロット。入力範囲を[0,10],[0,10]、出力範囲を[-10,10]と仮定\n",
        "def plot_neural_2_inputs_2_outputs(x1,x2, y1, y2, pre_1, pre_2, pre_3, act_1, act_2, act_3, w_act_11, w_act_12, w_act_13, w_act_21, w_act_22, w_act_23):\n",
        "\n",
        "  # フラグが設定されている場合は中間プロットを表示\n",
        "  fig, ax = plt.subplots(4,3)\n",
        "  fig.set_size_inches(8.5, 8.5)\n",
        "  fig.tight_layout(pad=3.0)\n",
        "  draw_2D_function(ax[0,0], x1,x2,pre_1); ax[0,0].set_title('Preactivation')\n",
        "  draw_2D_function(ax[0,1], x1,x2,pre_2); ax[0,1].set_title('Preactivation')\n",
        "  draw_2D_function(ax[0,2], x1,x2,pre_3); ax[0,2].set_title('Preactivation')\n",
        "  draw_2D_function(ax[1,0], x1,x2,act_1); ax[1,0].set_title('Activation')\n",
        "  draw_2D_function(ax[1,1], x1,x2,act_2); ax[1,1].set_title('Activation')\n",
        "  draw_2D_function(ax[1,2], x1,x2,act_3); ax[1,2].set_title('Activation')\n",
        "  draw_2D_function(ax[2,0], x1,x2,w_act_11); ax[2,0].set_title('Weighted Act 1')\n",
        "  draw_2D_function(ax[2,1], x1,x2,w_act_12); ax[2,1].set_title('Weighted Act 1')\n",
        "  draw_2D_function(ax[2,2], x1,x2,w_act_13); ax[2,2].set_title('Weighted Act 1')\n",
        "  draw_2D_function(ax[3,0], x1,x2,w_act_21); ax[3,0].set_title('Weighted Act 2')\n",
        "  draw_2D_function(ax[3,1], x1,x2,w_act_22); ax[3,1].set_title('Weighted Act 2')\n",
        "  draw_2D_function(ax[3,2], x1,x2,w_act_23); ax[3,2].set_title('Weighted Act 2')\n",
        "  plt.show()\n",
        "\n",
        "  fig, ax = plt.subplots()\n",
        "  draw_2D_function(ax,x1,x2,y1)\n",
        "  ax.set_title('Network output, $y_1$')\n",
        "  ax.set_aspect(1.0)\n",
        "  plt.show()\n",
        "\n",
        "  fig, ax = plt.subplots()\n",
        "  draw_2D_function(ax,x1,x2,y2)\n",
        "  ax.set_title('Network output, $y_2$')\n",
        "  ax.set_aspect(1.0)\n",
        "  plt.show()"
      ]
    },
    {
      "cell_type": "code",
      "execution_count": null,
      "metadata": {
        "id": "m8KAhwr4QWro"
      },
      "outputs": [],
      "source": [
        "# 2つの入力、2つの出力、3つの隠れユニットを持つ浅いニューラルネットワークを定義\n",
        "def shallow_2_2_3(x1,x2, activation_fn, phi_10,phi_11,phi_12,phi_13, phi_20,phi_21,phi_22,phi_23, theta_10, theta_11,\\\n",
        "                  theta_12, theta_20, theta_21, theta_22, theta_30, theta_31, theta_32):\n",
        "\n",
        "  # TODO -- この関数を書いてください -- 以下のダミーコードを置き換えてください\n",
        "  pre_1 = np.zeros_like(x1)\n",
        "  pre_2 = np.zeros_like(x1)\n",
        "  pre_3 = np.zeros_like(x1)\n",
        "  act_1 = np.zeros_like(x1)\n",
        "  act_2 = np.zeros_like(x1)\n",
        "  act_3 = np.zeros_like(x1)\n",
        "  w_act_11 = np.zeros_like(x1)\n",
        "  w_act_12 = np.zeros_like(x1)\n",
        "  w_act_13 = np.zeros_like(x1)\n",
        "  w_act_21 = np.zeros_like(x1)\n",
        "  w_act_22 = np.zeros_like(x1)\n",
        "  w_act_23 = np.zeros_like(x1)\n",
        "  y1 = np.zeros_like(x1)\n",
        "  y2 = np.zeros_like(x1)\n",
        "\n",
        "\n",
        "  # 計算したすべてを返す\n",
        "  return y1,y2, pre_1, pre_2, pre_3, act_1, act_2, act_3, w_act_11, w_act_12, w_act_13, w_act_21, w_act_22, w_act_23"
      ]
    },
    {
      "cell_type": "code",
      "execution_count": null,
      "metadata": {
        "id": "ms4YTqbYUeRV"
      },
      "outputs": [],
      "source": [
        "# パラメータを定義してニューラルネットワークを実行\n",
        "theta_10 =  -4.0 ;  theta_11 = 0.9; theta_12 = 0.0\n",
        "theta_20 =  5.0  ; theta_21 = -0.9 ; theta_22 = -0.5\n",
        "theta_30 =  -7  ; theta_31 = 0.5; theta_32 = 0.9\n",
        "phi_10 = 0.0; phi_11 = -2.0; phi_12 = 2.0; phi_13 = 1.5\n",
        "phi_20 = -2.0; phi_21 = -1.0; phi_22 = -2.0; phi_23 = 0.8\n",
        "\n",
        "x1 = np.arange(0.0, 10.0, 0.1)\n",
        "x2 = np.arange(0.0, 10.0, 0.1)\n",
        "x1,x2 = np.meshgrid(x1,x2)  # https://www.geeksforgeeks.org/numpy-meshgrid-function/\n",
        "\n",
        "# これらの入力値に対してニューラルネットワークを実行\n",
        "y1, y2, pre_1, pre_2, pre_3, act_1, act_2, act_3, w_act_11, w_act_12, w_act_13, w_act_21, w_act_22, w_act_23 = \\\n",
        "    shallow_2_2_3(x1,x2, ReLU, phi_10,phi_11,phi_12,phi_13, phi_20,phi_21,phi_22,phi_23, theta_10, theta_11, theta_12, theta_20, theta_21, theta_22, theta_30, theta_31, theta_32)\n",
        "# そしてプロット\n",
        "plot_neural_2_inputs_2_outputs(x1,x2, y1, y2, pre_1, pre_2, pre_3, act_1, act_2, act_3, w_act_11, w_act_12, w_act_13, w_act_21, w_act_22, w_act_23)"
      ]
    }
  ],
  "metadata": {
    "colab": {
      "include_colab_link": true,
      "provenance": []
    },
    "kernelspec": {
      "display_name": "Python 3",
      "name": "python3"
    },
    "language_info": {
      "name": "python"
    }
  },
  "nbformat": 4,
  "nbformat_minor": 0
}
